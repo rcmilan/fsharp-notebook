{
 "cells": [
  {
   "cell_type": "markdown",
   "metadata": {},
   "source": [
    "# FSharp"
   ]
  },
  {
   "cell_type": "code",
   "execution_count": 1,
   "metadata": {
    "dotnet_interactive": {
     "language": "fsharp"
    }
   },
   "outputs": [
    {
     "name": "stdout",
     "output_type": "stream",
     "text": [
      "Hello World!\n"
     ]
    }
   ],
   "source": [
    "#load \"scripts/hello.fsx\"\n",
    "open HelloModule\n",
    "\n",
    "sayHello\n"
   ]
  },
  {
   "cell_type": "code",
   "execution_count": 2,
   "metadata": {
    "dotnet_interactive": {
     "language": "fsharp"
    }
   },
   "outputs": [
    {
     "data": {
      "text/plain": [
       "1000 is greater than 100"
      ]
     },
     "metadata": {},
     "output_type": "display_data"
    }
   ],
   "source": [
    "#load \"scripts/conditional.fsx\"\n",
    "open ConditionalModule\n",
    "\n",
    "checkGreater(1000, 100)"
   ]
  },
  {
   "cell_type": "code",
   "execution_count": 3,
   "metadata": {
    "dotnet_interactive": {
     "language": "fsharp"
    },
    "polyglot_notebook": {
     "kernelName": "fsharp"
    }
   },
   "outputs": [
    {
     "name": "stdout",
     "output_type": "stream",
     "text": [
      "20\n"
     ]
    }
   ],
   "source": [
    "#load \"scripts/functions.fsx\"\n",
    "open FunctionModule\n",
    "\n",
    "calculateSum 10 10 |> printfn \"%i\""
   ]
  },
  {
   "cell_type": "code",
   "execution_count": 4,
   "metadata": {
    "dotnet_interactive": {
     "language": "fsharp"
    },
    "polyglot_notebook": {
     "kernelName": "fsharp"
    }
   },
   "outputs": [
    {
     "name": "stdout",
     "output_type": "stream",
     "text": [
      "-4\n"
     ]
    }
   ],
   "source": [
    "#load \"scripts/functions.fsx\"\n",
    "open FunctionModule\n",
    "\n",
    "memoizationSum -5 |> printfn \"%i\""
   ]
  },
  {
   "cell_type": "code",
   "execution_count": 5,
   "metadata": {
    "dotnet_interactive": {
     "language": "fsharp"
    },
    "polyglot_notebook": {
     "kernelName": "fsharp"
    }
   },
   "outputs": [
    {
     "name": "stdout",
     "output_type": "stream",
     "text": [
      "100\n"
     ]
    }
   ],
   "source": [
    "#load \"scripts/functions.fsx\"\n",
    "open FunctionModule\n",
    "\n",
    "recursiveSum 90 |> printfn \"%i\""
   ]
  },
  {
   "cell_type": "code",
   "execution_count": 6,
   "metadata": {
    "dotnet_interactive": {
     "language": "fsharp"
    },
    "polyglot_notebook": {
     "kernelName": "fsharp"
    }
   },
   "outputs": [
    {
     "name": "stdout",
     "output_type": "stream",
     "text": [
      "Roots: x1 = 2.000000, x2 = 1.000000\n"
     ]
    }
   ],
   "source": [
    "open System\n",
    "\n",
    "let discriminate a b c = b * b - 4.0 * a * c\n",
    "\n",
    "let solveQuadratic a b c discriminant = \n",
    "    let sqrtDiscriminant = sqrt discriminant\n",
    "    let x1 = (-b + sqrtDiscriminant) / (2.0 * a)\n",
    "    let x2 = (-b - sqrtDiscriminant) / (2.0 * a)\n",
    "    x1, x2\n",
    "\n",
    "let quadraticFormula a b c =\n",
    "    let discriminant = discriminate a b c\n",
    "\n",
    "    match discriminant with\n",
    "    | d when d < 0.0 -> None\n",
    "    | d -> Some (solveQuadratic a b c d)\n",
    "\n",
    "// Usage:\n",
    "let a = 1.0\n",
    "let b = -3.0\n",
    "let c = 2.0\n",
    "\n",
    "match quadraticFormula a b c with\n",
    "| None -> printfn \"No real roots\"\n",
    "| Some (x1, x2) -> printfn \"Roots: x1 = %f, x2 = %f\" x1 x2\n"
   ]
  }
 ],
 "metadata": {
  "kernelspec": {
   "display_name": ".NET (C#)",
   "language": "C#",
   "name": ".net-csharp"
  },
  "language_info": {
   "name": "polyglot-notebook"
  },
  "polyglot_notebook": {
   "kernelInfo": {
    "defaultKernelName": "csharp",
    "items": [
     {
      "aliases": [],
      "name": "csharp"
     },
     {
      "aliases": [],
      "name": "fsharp"
     }
    ]
   }
  }
 },
 "nbformat": 4,
 "nbformat_minor": 2
}
