{
 "cells": [
  {
   "cell_type": "markdown",
   "metadata": {},
   "source": [
    "# FSharp"
   ]
  },
  {
   "cell_type": "code",
   "execution_count": 1,
   "metadata": {
    "dotnet_interactive": {
     "language": "fsharp"
    }
   },
   "outputs": [
    {
     "name": "stdout",
     "output_type": "stream",
     "text": [
      "Hello World!\n"
     ]
    }
   ],
   "source": [
    "#load \"scripts/hello.fsx\"\n",
    "open HelloModule\n",
    "\n",
    "sayHello\n"
   ]
  },
  {
   "cell_type": "code",
   "execution_count": 2,
   "metadata": {
    "dotnet_interactive": {
     "language": "fsharp"
    }
   },
   "outputs": [
    {
     "data": {
      "text/plain": [
       "1000 is greater than 100"
      ]
     },
     "metadata": {},
     "output_type": "display_data"
    }
   ],
   "source": [
    "#load \"scripts/conditional.fsx\"\n",
    "open ConditionalModule\n",
    "\n",
    "checkGreater(1000, 100)"
   ]
  },
  {
   "cell_type": "code",
   "execution_count": 3,
   "metadata": {
    "dotnet_interactive": {
     "language": "fsharp"
    },
    "polyglot_notebook": {
     "kernelName": "fsharp"
    }
   },
   "outputs": [
    {
     "name": "stdout",
     "output_type": "stream",
     "text": [
      "20\n"
     ]
    }
   ],
   "source": [
    "#load \"scripts/functions.fsx\"\n",
    "open FunctionModule\n",
    "\n",
    "calculateSum 10 10 |> printfn \"%i\""
   ]
  },
  {
   "cell_type": "code",
   "execution_count": 4,
   "metadata": {
    "dotnet_interactive": {
     "language": "fsharp"
    },
    "polyglot_notebook": {
     "kernelName": "fsharp"
    }
   },
   "outputs": [
    {
     "name": "stdout",
     "output_type": "stream",
     "text": [
      "-4\n"
     ]
    }
   ],
   "source": [
    "#load \"scripts/functions.fsx\"\n",
    "open FunctionModule\n",
    "\n",
    "memoizationSum -5 |> printfn \"%i\""
   ]
  },
  {
   "cell_type": "code",
   "execution_count": 5,
   "metadata": {
    "dotnet_interactive": {
     "language": "fsharp"
    },
    "polyglot_notebook": {
     "kernelName": "fsharp"
    }
   },
   "outputs": [
    {
     "name": "stdout",
     "output_type": "stream",
     "text": [
      "100\n"
     ]
    }
   ],
   "source": [
    "#load \"scripts/functions.fsx\"\n",
    "open FunctionModule\n",
    "\n",
    "recursiveSum 90 |> printfn \"%i\""
   ]
  },
  {
   "cell_type": "code",
   "execution_count": 6,
   "metadata": {
    "dotnet_interactive": {
     "language": "fsharp"
    },
    "polyglot_notebook": {
     "kernelName": "fsharp"
    }
   },
   "outputs": [
    {
     "name": "stdout",
     "output_type": "stream",
     "text": [
      "Roots: x1 = 2.000000, x2 = 1.000000\n"
     ]
    }
   ],
   "source": [
    "#load \"scripts/quadratic.fsx\"\n",
    "open QuadraticModule\n",
    "\n",
    "let a = 1.0\n",
    "let b = -3.0\n",
    "let c = 2.0\n",
    "\n",
    "match quadraticFormula a b c with\n",
    "| None -> printfn \"No real roots\"\n",
    "| Some (x1, x2) -> printfn \"Roots: x1 = %f, x2 = %f\" x1 x2"
   ]
  },
  {
   "cell_type": "code",
   "execution_count": 7,
   "metadata": {
    "dotnet_interactive": {
     "language": "fsharp"
    },
    "polyglot_notebook": {
     "kernelName": "fsharp"
    }
   },
   "outputs": [
    {
     "name": "stdout",
     "output_type": "stream",
     "text": [
      "True branch\n",
      "Result: 42\n",
      "First pattern\n",
      "Result: One\n",
      "Fibonacci(10): 55\n"
     ]
    }
   ],
   "source": [
    "#load \"scripts/lazyEvaluation.fsx\"\n",
    "open LazyEvaluationModule\n",
    "\n",
    "// Lazy If\n",
    "let lazyExp1 = lazy (printfn \"True branch\"; 42)\n",
    "let lazyExp2 = lazy (printfn \"False branch\"; -42)\n",
    "\n",
    "let resultIf = lazyIf true lazyExp1 lazyExp2\n",
    "printfn \"Result: %d\" resultIf\n",
    "\n",
    "// Lazy Match\n",
    "let input = 1\n",
    "let patterns = [\n",
    "    (fun x -> x = 1)\n",
    "    (fun x -> x = 2)\n",
    "]\n",
    "let lazyResults = [\n",
    "    lazy (printfn \"First pattern\"; \"One\")\n",
    "    lazy (printfn \"Second pattern\"; \"Two\")\n",
    "]\n",
    "\n",
    "let resultMatch = lazyMatch input patterns lazyResults\n",
    "printfn \"Result: %s\" resultMatch\n",
    "\n",
    "// Lazy Memoized Fibonacci\n",
    "let memoizedLazyFibonacci = memoize lazyFibonacci\n",
    "let resultFib = memoizedLazyFibonacci 10\n",
    "printfn \"Fibonacci(10): %d\" resultFib\n"
   ]
  }
 ],
 "metadata": {
  "kernelspec": {
   "display_name": ".NET (C#)",
   "language": "C#",
   "name": ".net-csharp"
  },
  "language_info": {
   "name": "polyglot-notebook"
  },
  "polyglot_notebook": {
   "kernelInfo": {
    "defaultKernelName": "csharp",
    "items": [
     {
      "aliases": [],
      "name": "csharp"
     },
     {
      "aliases": [],
      "name": "fsharp"
     }
    ]
   }
  }
 },
 "nbformat": 4,
 "nbformat_minor": 2
}
